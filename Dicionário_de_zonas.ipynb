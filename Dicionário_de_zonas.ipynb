{
  "nbformat": 4,
  "nbformat_minor": 0,
  "metadata": {
    "colab": {
      "provenance": [],
      "authorship_tag": "ABX9TyOYSCJnMrPl7xq5+V7V93FD",
      "include_colab_link": true
    },
    "kernelspec": {
      "name": "python3",
      "display_name": "Python 3"
    },
    "language_info": {
      "name": "python"
    }
  },
  "cells": [
    {
      "cell_type": "markdown",
      "metadata": {
        "id": "view-in-github",
        "colab_type": "text"
      },
      "source": [
        "<a href=\"https://colab.research.google.com/github/Gabriela-Leiros/Fase_02.Semin-rio_de_Algoritmo/blob/main/Dicion%C3%A1rio_de_zonas.ipynb\" target=\"_parent\"><img src=\"https://colab.research.google.com/assets/colab-badge.svg\" alt=\"Open In Colab\"/></a>"
      ]
    },
    {
      "cell_type": "code",
      "source": [
        "Dic = {'cloro_residual': {\n",
        "        'leste': {'aprovado': 56, 'reprovado': 16},\n",
        "        'oeste': {'aprovado': 42, 'reprovado': 10},\n",
        "        'norte1': {'aprovado': 32, 'reprovado': 5},\n",
        "        'norte2': {'aprovado': 26, 'reprovado': 8},\n",
        "        'sul': {'aprovado': 80, 'reprovado': 25}\n",
        "    },\n",
        "    'turbidez': {\n",
        "        'leste': {'aprovado': 56, 'reprovado': 4},\n",
        "        'oeste': {'aprovado': 42, 'reprovado': 5},\n",
        "        'norte1': {'aprovado': 32, 'reprovado': 3},\n",
        "        'norte2': {'aprovado': 26, 'reprovado': 7},\n",
        "        'sul': {'aprovado': 80, 'reprovado': 15}\n",
        "    },\n",
        "    'cor_aparente': {\n",
        "        'leste': {'aprovado': 56, 'reprovado': 3},\n",
        "        'oeste': {'aprovado': 42, 'reprovado': 1},\n",
        "        'norte1': {'aprovado': 32, 'reprovado': 5},\n",
        "        'norte2': {'aprovado': 26, 'reprovado': 11},\n",
        "        'sul': {'aprovado': 80, 'reprovado': 1}\n",
        "    },\n",
        "    'escherichia_coli': {\n",
        "        'leste': {'aprovado': 56, 'reprovado': 0},\n",
        "        'oeste': {'aprovado': 42, 'reprovado': 1},\n",
        "        'norte1': {'aprovado': 32, 'reprovado': 0},\n",
        "        'norte2': {'aprovado': 26, 'reprovado': 0},\n",
        "        'sul': {'aprovado': 80, 'reprovado': 0}\n",
        "    },\n",
        "    'pH': {\n",
        "        'leste': {'aprovado': 56, 'reprovado': 26},\n",
        "        'oeste': {'aprovado': 42, 'reprovado': 19},\n",
        "        'norte1': {'aprovado': 32, 'reprovado': 9},\n",
        "        'norte2': {'aprovado': 26, 'reprovado': 5},\n",
        "        'sul': {'aprovado': 80, 'reprovado': 40}\n",
        "    },\n",
        "    'coliformes_totais': {\n",
        "        'leste': {'aprovado': 56, 'reprovado': 7},\n",
        "        'oeste': {'aprovado': 42, 'reprovado': 2},\n",
        "        'norte1': {'aprovado': 32, 'reprovado': 6},\n",
        "        'norte2': {'aprovado': 26, 'reprovado': 13},\n",
        "        'sul': {'aprovado': 80, 'reprovado': 4}\n",
        "    }\n",
        "}\n",
        "\n"
      ],
      "metadata": {
        "id": "w2YMRcaMUxb-"
      },
      "execution_count": 9,
      "outputs": []
    },
    {
      "cell_type": "code",
      "source": [
        "#Divisão por zonas para dar um resultado setorizado\n",
        "dic_zonas = {'norte1': {\n",
        "    'cloro_residual':  {'aprovado': 32, 'reprovado': 5},\n",
        "    'turbidez':{'aprovado': 32, 'reprovado': 3},\n",
        "    'cor_aparente': {'aprovado': 32, 'reprovado': 5},\n",
        "    'escherichia_coli':{'aprovado': 32, 'reprovado': 0},\n",
        "    'pH':{'aprovado': 32, 'reprovado': 9},\n",
        "    'coliformes_totais':{'aprovado': 32, 'reprovado': 6}\n",
        "},\n",
        "            'norte2': {\n",
        "    'cloro_residual':{'aprovado': 26, 'reprovado': 8},\n",
        "    'turbidez':{'aprovado': 26, 'reprovado': 7},\n",
        "    'cor_aparente':  {'aprovado': 26, 'reprovado': 11},\n",
        "    'escherichia_coli':{'aprovado': 26, 'reprovado': 0},\n",
        "    'pH':{'aprovado': 26, 'reprovado': 5},\n",
        "    'coliformes_totais':{'aprovado': 26, 'reprovado': 13}\n",
        "},\n",
        "            'sul': {\n",
        "'cloro_residual':{'aprovado': 80, 'reprovado': 25},\n",
        "    'turbidez': {'aprovado': 80, 'reprovado': 15},\n",
        "    'cor_aparente': {'aprovado': 80, 'reprovado': 1},\n",
        "    'escherichia_coli': {'aprovado': 80, 'reprovado': 0},\n",
        "    'pH':{'aprovado': 80, 'reprovado': 40},\n",
        "    'coliformes_totais':{'aprovado': 80, 'reprovado': 4}\n",
        "},\n",
        "              'leste': {\n",
        "    'cloro_residual':{'aprovado': 56, 'reprovado': 16},\n",
        "    'turbidez': {'aprovado': 56, 'reprovado': 4},\n",
        "    'cor_aparente':  {'aprovado': 56, 'reprovado': 3},\n",
        "    'escherichia_coli': {'aprovado': 56, 'reprovado': 0},\n",
        "    'pH':{'aprovado': 56, 'reprovado': 26},\n",
        "    'coliformes_totais':{'aprovado': 56, 'reprovado': 7},\n",
        "},\n",
        "              'oeste': {\n",
        "    'cloro_residual':{'aprovado': 42, 'reprovado': 10},\n",
        "    'turbidez': {'aprovado': 42, 'reprovado': 5},\n",
        "    'cor_aparente':  {'aprovado': 42, 'reprovado': 1},\n",
        "    'escherichia_coli': {'aprovado': 42, 'reprovado': 1},\n",
        "    'pH':{'aprovado': 42, 'reprovado': 19},\n",
        "    'coliformes_totais':{'aprovado': 42, 'reprovado': 2},\n",
        "} }\n",
        "\n",
        "while True:\n",
        "    resultado_zona = input(\"informe uma zona para checagem(ou sair para encerrar): \")\n",
        "    if resultado_zona == \"sair\":\n",
        "     break\n",
        "\n",
        "    if resultado_zona in dic_zonas:\n",
        "      print(dic_zonas[resultado_zona])\n",
        "    else:\n",
        "      print(\"zona não encontrada\")"
      ],
      "metadata": {
        "colab": {
          "base_uri": "https://localhost:8080/"
        },
        "id": "QLhTj_9VXsWg",
        "outputId": "5051aa40-5608-493e-f11f-3bf54056764e"
      },
      "execution_count": 26,
      "outputs": [
        {
          "name": "stdout",
          "output_type": "stream",
          "text": [
            "informe uma zona para checagem(ou sair para encerrar): norte1\n",
            "{'cloro_residual': {'aprovado': 32, 'reprovado': 5}, 'turbidez': {'aprovado': 32, 'reprovado': 3}, 'cor_aparente': {'aprovado': 32, 'reprovado': 5}, 'escherichia_coli': {'aprovado': 32, 'reprovado': 0}, 'pH': {'aprovado': 32, 'reprovado': 9}, 'coliformes_totais': {'aprovado': 32, 'reprovado': 6}}\n",
            "informe uma zona para checagem(ou sair para encerrar): sudeste\n",
            "zona não encontrada\n",
            "informe uma zona para checagem(ou sair para encerrar): sair\n"
          ]
        }
      ]
    },
    {
      "cell_type": "code",
      "source": [
        "#parametro\n",
        "parametros = {\n",
        "    1: \"Cloro Residual (0.2, 2.0) mg/L\",\n",
        "    2: \"pH (6.5, 8.5)\",\n",
        "    3: \"Turbidez (0.0, 5.0 NTU)\",\n",
        "    4: \"Cor Aparente (0.0, 15 UH)\",\n",
        "    5: \"Coliformes Totais (0, 0), UFC/100mL\",\n",
        "    6: \"Escherichia Coli (0, 0), UFC/100mL\"\n",
        "}\n",
        "#Saber se a zona passa nesses parametros\n",
        "for zona, valores in dic_zonas.items():\n",
        "    for parametro, valores in valores.items():\n",
        "        if valores['aprovado'] <= valores['reprovado']:\n",
        "            resultado = False\n",
        "            print(f\"A zona '{zona}' reprovou no parâmetro '{parametro}'.\")\n",
        "            break\n",
        "        else:\n",
        "            resultado = True\n",
        "            print(f\"A zona '{zona}' passou no parâmetro '{parametro}'.\")\n"
      ],
      "metadata": {
        "colab": {
          "base_uri": "https://localhost:8080/"
        },
        "id": "IfW2Bd8xfCAL",
        "outputId": "8bf4b0f2-2402-4d41-e9a4-96f8a69aef07"
      },
      "execution_count": 28,
      "outputs": [
        {
          "output_type": "stream",
          "name": "stdout",
          "text": [
            "A zona 'norte1' passou no parâmetro 'cloro_residual'.\n",
            "A zona 'norte1' passou no parâmetro 'turbidez'.\n",
            "A zona 'norte1' passou no parâmetro 'cor_aparente'.\n",
            "A zona 'norte1' passou no parâmetro 'escherichia_coli'.\n",
            "A zona 'norte1' passou no parâmetro 'pH'.\n",
            "A zona 'norte1' passou no parâmetro 'coliformes_totais'.\n",
            "A zona 'norte2' passou no parâmetro 'cloro_residual'.\n",
            "A zona 'norte2' passou no parâmetro 'turbidez'.\n",
            "A zona 'norte2' passou no parâmetro 'cor_aparente'.\n",
            "A zona 'norte2' passou no parâmetro 'escherichia_coli'.\n",
            "A zona 'norte2' passou no parâmetro 'pH'.\n",
            "A zona 'norte2' passou no parâmetro 'coliformes_totais'.\n",
            "A zona 'sul' passou no parâmetro 'cloro_residual'.\n",
            "A zona 'sul' passou no parâmetro 'turbidez'.\n",
            "A zona 'sul' passou no parâmetro 'cor_aparente'.\n",
            "A zona 'sul' passou no parâmetro 'escherichia_coli'.\n",
            "A zona 'sul' passou no parâmetro 'pH'.\n",
            "A zona 'sul' passou no parâmetro 'coliformes_totais'.\n",
            "A zona 'leste' passou no parâmetro 'cloro_residual'.\n",
            "A zona 'leste' passou no parâmetro 'turbidez'.\n",
            "A zona 'leste' passou no parâmetro 'cor_aparente'.\n",
            "A zona 'leste' passou no parâmetro 'escherichia_coli'.\n",
            "A zona 'leste' passou no parâmetro 'pH'.\n",
            "A zona 'leste' passou no parâmetro 'coliformes_totais'.\n",
            "A zona 'oeste' passou no parâmetro 'cloro_residual'.\n",
            "A zona 'oeste' passou no parâmetro 'turbidez'.\n",
            "A zona 'oeste' passou no parâmetro 'cor_aparente'.\n",
            "A zona 'oeste' passou no parâmetro 'escherichia_coli'.\n",
            "A zona 'oeste' passou no parâmetro 'pH'.\n",
            "A zona 'oeste' passou no parâmetro 'coliformes_totais'.\n"
          ]
        }
      ]
    }
  ]
}